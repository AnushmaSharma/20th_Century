{
 "cells": [
  {
   "cell_type": "code",
   "execution_count": 1,
   "id": "781d7304-3b8c-49a9-ac11-b84659592b63",
   "metadata": {},
   "outputs": [
    {
     "name": "stdout",
     "output_type": "stream",
     "text": [
      "List of countries - Simple English Wikipedia, the free encyclopedia\n",
      "Countries list saved successfully!\n"
     ]
    }
   ],
   "source": [
    "from selenium import webdriver\n",
    "from selenium.webdriver.common.by import By\n",
    "from selenium.webdriver.chrome.service import Service\n",
    "from webdriver_manager.chrome import ChromeDriverManager\n",
    "import time\n",
    "\n",
    "# Initialize the driver\n",
    "driver = webdriver.Chrome(service=Service(ChromeDriverManager().install()))\n",
    "\n",
    "# Your target URL\n",
    "url = \"https://simple.m.wikipedia.org/wiki/List_of_countries\"\n",
    "driver.get(url)\n",
    "print(driver.title)  # Verify the page loads\n",
    "\n",
    "# Allow time for the page to load\n",
    "time.sleep(2)\n",
    "\n",
    "# Locate the list of countries\n",
    "countries = []\n",
    "\n",
    "# Find all the 'li' elements that may contain country names\n",
    "country_elements = driver.find_elements(By.TAG_NAME, \"li\")\n",
    "\n",
    "# Extract the text from the elements and filter out the empty ones\n",
    "for element in country_elements:\n",
    "    text = element.text.strip()\n",
    "    if text:\n",
    "        countries.append(text)\n",
    "\n",
    "# Save the list to a text file\n",
    "with open(\"countries_list.txt\", \"w\", encoding=\"utf-8\") as file:\n",
    "    for country in countries:\n",
    "        file.write(country + \"\\n\")\n",
    "\n",
    "# Close the driver\n",
    "driver.quit()\n",
    "\n",
    "print(\"Countries list saved successfully!\")"
   ]
  },
  {
   "cell_type": "code",
   "execution_count": null,
   "id": "4bee0b34-9014-4b85-9cdf-3634937fce94",
   "metadata": {},
   "outputs": [],
   "source": []
  }
 ],
 "metadata": {
  "kernelspec": {
   "display_name": "Python (20th_century)",
   "language": "python",
   "name": "20th_century"
  },
  "language_info": {
   "codemirror_mode": {
    "name": "ipython",
    "version": 3
   },
   "file_extension": ".py",
   "mimetype": "text/x-python",
   "name": "python",
   "nbconvert_exporter": "python",
   "pygments_lexer": "ipython3",
   "version": "3.9.21"
  }
 },
 "nbformat": 4,
 "nbformat_minor": 5
}
