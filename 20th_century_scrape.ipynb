{
 "cells": [
  {
   "cell_type": "code",
   "execution_count": 1,
   "id": "7c0bb5d9-0056-46ae-a543-89dd32f050e5",
   "metadata": {},
   "outputs": [],
   "source": [
    "# Import libraries\n",
    "\n",
    "import pandas as pd\n",
    "import time\n",
    "from selenium import webdriver\n",
    "from webdriver_manager.chrome import ChromeDriverManager\n",
    "from selenium.webdriver.common.by import By\n",
    "from selenium.webdriver.chrome.service import Service\n",
    "from selenium.webdriver.chrome.options import Options\n",
    "import matplotlib.pyplot as plt \n",
    "import os\n",
    "import logging\n",
    "import requests\n",
    "import re"
   ]
  },
  {
   "cell_type": "code",
   "execution_count": 2,
   "id": "ff138f67-56eb-4277-8381-bfe944ef83fe",
   "metadata": {},
   "outputs": [
    {
     "name": "stdout",
     "output_type": "stream",
     "text": [
      "File saved as 'Key_Events_20th_Century.txt'\n"
     ]
    }
   ],
   "source": [
    "from bs4 import BeautifulSoup\n",
    "import requests\n",
    "\n",
    "# URL of the Wikipedia page\n",
    "url = \"https://en.wikipedia.org/wiki/Key_events_of_the_20th_century\"\n",
    "\n",
    "# Fetch the page content\n",
    "response = requests.get(url)\n",
    "\n",
    "# Check if the request was successful\n",
    "if response.status_code == 200:\n",
    "    # Parse the content with BeautifulSoup\n",
    "    soup = BeautifulSoup(response.text, 'html.parser')\n",
    "    \n",
    "    # Extract the text content\n",
    "    text = soup.get_text()\n",
    "    \n",
    "    # Encode the text\n",
    "    text = text.encode('utf-8')\n",
    "    \n",
    "    # Save the content to a .txt file\n",
    "    with open('Key_Events_20th_Century.txt', 'wb') as f:\n",
    "        f.write(text)\n",
    "    \n",
    "    print(\"File saved as 'Key_Events_20th_Century.txt'\")\n",
    "else:\n",
    "    print(f\"Error: Unable to fetch the page. Status code {response.status_code}\")"
   ]
  },
  {
   "cell_type": "code",
   "execution_count": null,
   "id": "57bcf28e-306a-42a9-ab6f-b45d2eafa91b",
   "metadata": {},
   "outputs": [],
   "source": []
  }
 ],
 "metadata": {
  "kernelspec": {
   "display_name": "Python (20th_century)",
   "language": "python",
   "name": "20th_century"
  },
  "language_info": {
   "codemirror_mode": {
    "name": "ipython",
    "version": 3
   },
   "file_extension": ".py",
   "mimetype": "text/x-python",
   "name": "python",
   "nbconvert_exporter": "python",
   "pygments_lexer": "ipython3",
   "version": "3.9.21"
  }
 },
 "nbformat": 4,
 "nbformat_minor": 5
}
